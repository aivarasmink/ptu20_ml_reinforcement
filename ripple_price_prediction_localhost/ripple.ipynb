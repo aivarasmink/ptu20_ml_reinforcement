{
 "cells": [
  {
   "cell_type": "code",
   "execution_count": 1,
   "metadata": {},
   "outputs": [],
   "source": [
    "import yfinance as yf\n",
    "import numpy as np\n",
    "import pandas as pd\n",
    "from matplotlib import pyplot as plt\n",
    "from datetime import datetime"
   ]
  },
  {
   "cell_type": "markdown",
   "metadata": {},
   "source": [
    "Downloading data fom yahoo finance"
   ]
  },
  {
   "cell_type": "code",
   "execution_count": 4,
   "metadata": {},
   "outputs": [
    {
     "name": "stderr",
     "output_type": "stream",
     "text": [
      "[*********************100%%**********************]  1 of 1 completed\n"
     ]
    },
    {
     "data": {
      "text/html": [
       "<div>\n",
       "<style scoped>\n",
       "    .dataframe tbody tr th:only-of-type {\n",
       "        vertical-align: middle;\n",
       "    }\n",
       "\n",
       "    .dataframe tbody tr th {\n",
       "        vertical-align: top;\n",
       "    }\n",
       "\n",
       "    .dataframe thead th {\n",
       "        text-align: right;\n",
       "    }\n",
       "</style>\n",
       "<table border=\"1\" class=\"dataframe\">\n",
       "  <thead>\n",
       "    <tr style=\"text-align: right;\">\n",
       "      <th></th>\n",
       "      <th>Open</th>\n",
       "      <th>High</th>\n",
       "      <th>Low</th>\n",
       "      <th>Close</th>\n",
       "      <th>Adj Close</th>\n",
       "      <th>Volume</th>\n",
       "    </tr>\n",
       "    <tr>\n",
       "      <th>Date</th>\n",
       "      <th></th>\n",
       "      <th></th>\n",
       "      <th></th>\n",
       "      <th></th>\n",
       "      <th></th>\n",
       "      <th></th>\n",
       "    </tr>\n",
       "  </thead>\n",
       "  <tbody>\n",
       "    <tr>\n",
       "      <th>2017-11-09</th>\n",
       "      <td>0.217911</td>\n",
       "      <td>0.221791</td>\n",
       "      <td>0.214866</td>\n",
       "      <td>0.217488</td>\n",
       "      <td>0.217488</td>\n",
       "      <td>147916992</td>\n",
       "    </tr>\n",
       "    <tr>\n",
       "      <th>2017-11-10</th>\n",
       "      <td>0.218256</td>\n",
       "      <td>0.219068</td>\n",
       "      <td>0.205260</td>\n",
       "      <td>0.206483</td>\n",
       "      <td>0.206483</td>\n",
       "      <td>141032992</td>\n",
       "    </tr>\n",
       "    <tr>\n",
       "      <th>2017-11-11</th>\n",
       "      <td>0.205948</td>\n",
       "      <td>0.214456</td>\n",
       "      <td>0.205459</td>\n",
       "      <td>0.210430</td>\n",
       "      <td>0.210430</td>\n",
       "      <td>134503008</td>\n",
       "    </tr>\n",
       "    <tr>\n",
       "      <th>2017-11-12</th>\n",
       "      <td>0.210214</td>\n",
       "      <td>0.210214</td>\n",
       "      <td>0.195389</td>\n",
       "      <td>0.197339</td>\n",
       "      <td>0.197339</td>\n",
       "      <td>251175008</td>\n",
       "    </tr>\n",
       "    <tr>\n",
       "      <th>2017-11-13</th>\n",
       "      <td>0.197472</td>\n",
       "      <td>0.204081</td>\n",
       "      <td>0.197456</td>\n",
       "      <td>0.203442</td>\n",
       "      <td>0.203442</td>\n",
       "      <td>132567000</td>\n",
       "    </tr>\n",
       "    <tr>\n",
       "      <th>...</th>\n",
       "      <td>...</td>\n",
       "      <td>...</td>\n",
       "      <td>...</td>\n",
       "      <td>...</td>\n",
       "      <td>...</td>\n",
       "      <td>...</td>\n",
       "    </tr>\n",
       "    <tr>\n",
       "      <th>2024-03-22</th>\n",
       "      <td>0.640695</td>\n",
       "      <td>0.644345</td>\n",
       "      <td>0.600405</td>\n",
       "      <td>0.610949</td>\n",
       "      <td>0.610949</td>\n",
       "      <td>2053036282</td>\n",
       "    </tr>\n",
       "    <tr>\n",
       "      <th>2024-03-23</th>\n",
       "      <td>0.610948</td>\n",
       "      <td>0.632407</td>\n",
       "      <td>0.605780</td>\n",
       "      <td>0.617596</td>\n",
       "      <td>0.617596</td>\n",
       "      <td>1160450696</td>\n",
       "    </tr>\n",
       "    <tr>\n",
       "      <th>2024-03-24</th>\n",
       "      <td>0.617608</td>\n",
       "      <td>0.635601</td>\n",
       "      <td>0.614912</td>\n",
       "      <td>0.632950</td>\n",
       "      <td>0.632950</td>\n",
       "      <td>1230486578</td>\n",
       "    </tr>\n",
       "    <tr>\n",
       "      <th>2024-03-25</th>\n",
       "      <td>0.632953</td>\n",
       "      <td>0.659296</td>\n",
       "      <td>0.627339</td>\n",
       "      <td>0.641034</td>\n",
       "      <td>0.641034</td>\n",
       "      <td>2044948880</td>\n",
       "    </tr>\n",
       "    <tr>\n",
       "      <th>2024-03-26</th>\n",
       "      <td>0.640974</td>\n",
       "      <td>0.652752</td>\n",
       "      <td>0.640167</td>\n",
       "      <td>0.643208</td>\n",
       "      <td>0.643208</td>\n",
       "      <td>2185137664</td>\n",
       "    </tr>\n",
       "  </tbody>\n",
       "</table>\n",
       "<p>2330 rows × 6 columns</p>\n",
       "</div>"
      ],
      "text/plain": [
       "                Open      High       Low     Close  Adj Close      Volume\n",
       "Date                                                                     \n",
       "2017-11-09  0.217911  0.221791  0.214866  0.217488   0.217488   147916992\n",
       "2017-11-10  0.218256  0.219068  0.205260  0.206483   0.206483   141032992\n",
       "2017-11-11  0.205948  0.214456  0.205459  0.210430   0.210430   134503008\n",
       "2017-11-12  0.210214  0.210214  0.195389  0.197339   0.197339   251175008\n",
       "2017-11-13  0.197472  0.204081  0.197456  0.203442   0.203442   132567000\n",
       "...              ...       ...       ...       ...        ...         ...\n",
       "2024-03-22  0.640695  0.644345  0.600405  0.610949   0.610949  2053036282\n",
       "2024-03-23  0.610948  0.632407  0.605780  0.617596   0.617596  1160450696\n",
       "2024-03-24  0.617608  0.635601  0.614912  0.632950   0.632950  1230486578\n",
       "2024-03-25  0.632953  0.659296  0.627339  0.641034   0.641034  2044948880\n",
       "2024-03-26  0.640974  0.652752  0.640167  0.643208   0.643208  2185137664\n",
       "\n",
       "[2330 rows x 6 columns]"
      ]
     },
     "execution_count": 4,
     "metadata": {},
     "output_type": "execute_result"
    }
   ],
   "source": [
    "end = datetime.now()\n",
    "start = datetime(end.year -7, end.month, end.day)\n",
    "stock = \"XRP-USD\" \n",
    "xrp_data = yf.download(stock, start, end)\n",
    "xrp_data"
   ]
  },
  {
   "cell_type": "markdown",
   "metadata": {},
   "source": [
    "To get a summary statistics of the fetched Ripple price data"
   ]
  },
  {
   "cell_type": "code",
   "execution_count": 5,
   "metadata": {},
   "outputs": [
    {
     "data": {
      "text/html": [
       "<div>\n",
       "<style scoped>\n",
       "    .dataframe tbody tr th:only-of-type {\n",
       "        vertical-align: middle;\n",
       "    }\n",
       "\n",
       "    .dataframe tbody tr th {\n",
       "        vertical-align: top;\n",
       "    }\n",
       "\n",
       "    .dataframe thead th {\n",
       "        text-align: right;\n",
       "    }\n",
       "</style>\n",
       "<table border=\"1\" class=\"dataframe\">\n",
       "  <thead>\n",
       "    <tr style=\"text-align: right;\">\n",
       "      <th></th>\n",
       "      <th>Open</th>\n",
       "      <th>High</th>\n",
       "      <th>Low</th>\n",
       "      <th>Close</th>\n",
       "      <th>Adj Close</th>\n",
       "      <th>Volume</th>\n",
       "    </tr>\n",
       "  </thead>\n",
       "  <tbody>\n",
       "    <tr>\n",
       "      <th>count</th>\n",
       "      <td>2330.000000</td>\n",
       "      <td>2330.000000</td>\n",
       "      <td>2330.000000</td>\n",
       "      <td>2330.000000</td>\n",
       "      <td>2330.000000</td>\n",
       "      <td>2.330000e+03</td>\n",
       "    </tr>\n",
       "    <tr>\n",
       "      <th>mean</th>\n",
       "      <td>0.524240</td>\n",
       "      <td>0.545066</td>\n",
       "      <td>0.501979</td>\n",
       "      <td>0.524431</td>\n",
       "      <td>0.524431</td>\n",
       "      <td>2.360868e+09</td>\n",
       "    </tr>\n",
       "    <tr>\n",
       "      <th>std</th>\n",
       "      <td>0.330104</td>\n",
       "      <td>0.357317</td>\n",
       "      <td>0.303446</td>\n",
       "      <td>0.330040</td>\n",
       "      <td>0.330040</td>\n",
       "      <td>3.330254e+09</td>\n",
       "    </tr>\n",
       "    <tr>\n",
       "      <th>min</th>\n",
       "      <td>0.140524</td>\n",
       "      <td>0.146911</td>\n",
       "      <td>0.115093</td>\n",
       "      <td>0.139635</td>\n",
       "      <td>0.139635</td>\n",
       "      <td>1.002940e+08</td>\n",
       "    </tr>\n",
       "    <tr>\n",
       "      <th>25%</th>\n",
       "      <td>0.304655</td>\n",
       "      <td>0.312861</td>\n",
       "      <td>0.298101</td>\n",
       "      <td>0.304787</td>\n",
       "      <td>0.304787</td>\n",
       "      <td>8.529704e+08</td>\n",
       "    </tr>\n",
       "    <tr>\n",
       "      <th>50%</th>\n",
       "      <td>0.448210</td>\n",
       "      <td>0.461996</td>\n",
       "      <td>0.430009</td>\n",
       "      <td>0.448453</td>\n",
       "      <td>0.448453</td>\n",
       "      <td>1.403293e+09</td>\n",
       "    </tr>\n",
       "    <tr>\n",
       "      <th>75%</th>\n",
       "      <td>0.627186</td>\n",
       "      <td>0.646264</td>\n",
       "      <td>0.608581</td>\n",
       "      <td>0.627172</td>\n",
       "      <td>0.627172</td>\n",
       "      <td>2.411174e+09</td>\n",
       "    </tr>\n",
       "    <tr>\n",
       "      <th>max</th>\n",
       "      <td>3.363570</td>\n",
       "      <td>3.841940</td>\n",
       "      <td>3.117340</td>\n",
       "      <td>3.377810</td>\n",
       "      <td>3.377810</td>\n",
       "      <td>3.695518e+10</td>\n",
       "    </tr>\n",
       "  </tbody>\n",
       "</table>\n",
       "</div>"
      ],
      "text/plain": [
       "              Open         High          Low        Close    Adj Close  \\\n",
       "count  2330.000000  2330.000000  2330.000000  2330.000000  2330.000000   \n",
       "mean      0.524240     0.545066     0.501979     0.524431     0.524431   \n",
       "std       0.330104     0.357317     0.303446     0.330040     0.330040   \n",
       "min       0.140524     0.146911     0.115093     0.139635     0.139635   \n",
       "25%       0.304655     0.312861     0.298101     0.304787     0.304787   \n",
       "50%       0.448210     0.461996     0.430009     0.448453     0.448453   \n",
       "75%       0.627186     0.646264     0.608581     0.627172     0.627172   \n",
       "max       3.363570     3.841940     3.117340     3.377810     3.377810   \n",
       "\n",
       "             Volume  \n",
       "count  2.330000e+03  \n",
       "mean   2.360868e+09  \n",
       "std    3.330254e+09  \n",
       "min    1.002940e+08  \n",
       "25%    8.529704e+08  \n",
       "50%    1.403293e+09  \n",
       "75%    2.411174e+09  \n",
       "max    3.695518e+10  "
      ]
     },
     "execution_count": 5,
     "metadata": {},
     "output_type": "execute_result"
    }
   ],
   "source": [
    "xrp_data.describe()"
   ]
  },
  {
   "cell_type": "markdown",
   "metadata": {},
   "source": [
    " .info() method to get a concise summary of the Ripple price data, including the number of entries (non-null values) in each column, column data types, and memory usage"
   ]
  },
  {
   "cell_type": "code",
   "execution_count": 6,
   "metadata": {},
   "outputs": [
    {
     "name": "stdout",
     "output_type": "stream",
     "text": [
      "<class 'pandas.core.frame.DataFrame'>\n",
      "DatetimeIndex: 2330 entries, 2017-11-09 to 2024-03-26\n",
      "Data columns (total 6 columns):\n",
      " #   Column     Non-Null Count  Dtype  \n",
      "---  ------     --------------  -----  \n",
      " 0   Open       2330 non-null   float64\n",
      " 1   High       2330 non-null   float64\n",
      " 2   Low        2330 non-null   float64\n",
      " 3   Close      2330 non-null   float64\n",
      " 4   Adj Close  2330 non-null   float64\n",
      " 5   Volume     2330 non-null   int64  \n",
      "dtypes: float64(5), int64(1)\n",
      "memory usage: 127.4 KB\n"
     ]
    }
   ],
   "source": [
    "xrp_data.info()"
   ]
  },
  {
   "cell_type": "markdown",
   "metadata": {},
   "source": [
    "Count the number of missing (NaN) values in each column"
   ]
  },
  {
   "cell_type": "code",
   "execution_count": 7,
   "metadata": {},
   "outputs": [
    {
     "data": {
      "text/plain": [
       "Open         0\n",
       "High         0\n",
       "Low          0\n",
       "Close        0\n",
       "Adj Close    0\n",
       "Volume       0\n",
       "dtype: int64"
      ]
     },
     "execution_count": 7,
     "metadata": {},
     "output_type": "execute_result"
    }
   ],
   "source": [
    "xrp_data.isna().sum()"
   ]
  },
  {
   "cell_type": "markdown",
   "metadata": {},
   "source": [
    "lowercase"
   ]
  },
  {
   "cell_type": "code",
   "execution_count": 8,
   "metadata": {},
   "outputs": [],
   "source": [
    "xrp_data.columns = xrp_data.columns.str.lower()"
   ]
  },
  {
   "cell_type": "markdown",
   "metadata": {},
   "source": [
    "Closing price data, containing only the 'Close' price"
   ]
  },
  {
   "cell_type": "code",
   "execution_count": 9,
   "metadata": {},
   "outputs": [
    {
     "data": {
      "text/html": [
       "<div>\n",
       "<style scoped>\n",
       "    .dataframe tbody tr th:only-of-type {\n",
       "        vertical-align: middle;\n",
       "    }\n",
       "\n",
       "    .dataframe tbody tr th {\n",
       "        vertical-align: top;\n",
       "    }\n",
       "\n",
       "    .dataframe thead th {\n",
       "        text-align: right;\n",
       "    }\n",
       "</style>\n",
       "<table border=\"1\" class=\"dataframe\">\n",
       "  <thead>\n",
       "    <tr style=\"text-align: right;\">\n",
       "      <th></th>\n",
       "      <th>close</th>\n",
       "    </tr>\n",
       "    <tr>\n",
       "      <th>Date</th>\n",
       "      <th></th>\n",
       "    </tr>\n",
       "  </thead>\n",
       "  <tbody>\n",
       "    <tr>\n",
       "      <th>2017-11-09</th>\n",
       "      <td>0.217488</td>\n",
       "    </tr>\n",
       "    <tr>\n",
       "      <th>2017-11-10</th>\n",
       "      <td>0.206483</td>\n",
       "    </tr>\n",
       "    <tr>\n",
       "      <th>2017-11-11</th>\n",
       "      <td>0.210430</td>\n",
       "    </tr>\n",
       "    <tr>\n",
       "      <th>2017-11-12</th>\n",
       "      <td>0.197339</td>\n",
       "    </tr>\n",
       "    <tr>\n",
       "      <th>2017-11-13</th>\n",
       "      <td>0.203442</td>\n",
       "    </tr>\n",
       "    <tr>\n",
       "      <th>...</th>\n",
       "      <td>...</td>\n",
       "    </tr>\n",
       "    <tr>\n",
       "      <th>2024-03-22</th>\n",
       "      <td>0.610949</td>\n",
       "    </tr>\n",
       "    <tr>\n",
       "      <th>2024-03-23</th>\n",
       "      <td>0.617596</td>\n",
       "    </tr>\n",
       "    <tr>\n",
       "      <th>2024-03-24</th>\n",
       "      <td>0.632950</td>\n",
       "    </tr>\n",
       "    <tr>\n",
       "      <th>2024-03-25</th>\n",
       "      <td>0.641034</td>\n",
       "    </tr>\n",
       "    <tr>\n",
       "      <th>2024-03-26</th>\n",
       "      <td>0.643208</td>\n",
       "    </tr>\n",
       "  </tbody>\n",
       "</table>\n",
       "<p>2330 rows × 1 columns</p>\n",
       "</div>"
      ],
      "text/plain": [
       "               close\n",
       "Date                \n",
       "2017-11-09  0.217488\n",
       "2017-11-10  0.206483\n",
       "2017-11-11  0.210430\n",
       "2017-11-12  0.197339\n",
       "2017-11-13  0.203442\n",
       "...              ...\n",
       "2024-03-22  0.610949\n",
       "2024-03-23  0.617596\n",
       "2024-03-24  0.632950\n",
       "2024-03-25  0.641034\n",
       "2024-03-26  0.643208\n",
       "\n",
       "[2330 rows x 1 columns]"
      ]
     },
     "execution_count": 9,
     "metadata": {},
     "output_type": "execute_result"
    }
   ],
   "source": [
    "closing_price = xrp_data[['close']]\n",
    "closing_price"
   ]
  },
  {
   "cell_type": "code",
   "execution_count": 10,
   "metadata": {},
   "outputs": [
    {
     "data": {
      "image/png": "[encoded data removed]",
      "text/plain": [
       "<Figure size 1500x500 with 1 Axes>"
      ]
     },
     "metadata": {},
     "output_type": "display_data"
    }
   ],
   "source": [
    "plt.figure(figsize=(15, 5))\n",
    "closing_price['close'].plot()\n",
    "plt.xlabel('Years')\n",
    "plt.ylabel('Closing Price')\n",
    "plt.title('Closing Price of XRP')\n",
    "plt.show()\n"
   ]
  },
  {
   "cell_type": "markdown",
   "metadata": {},
   "source": [
    "Prints the number of closing prices for each year from 2017 to 2023"
   ]
  },
  {
   "cell_type": "code",
   "execution_count": 11,
   "metadata": {},
   "outputs": [
    {
     "name": "stdout",
     "output_type": "stream",
     "text": [
      "Year 2017: 53\n",
      "Year 2018: 365\n",
      "Year 2019: 365\n",
      "Year 2020: 366\n",
      "Year 2021: 365\n",
      "Year 2022: 365\n",
      "Year 2023: 365\n"
     ]
    }
   ],
   "source": [
    "for i in range(2017, 2024):\n",
    "    print(f\"Year {i}: {list(closing_price.index.year).count(i)}\")"
   ]
  },
  {
   "cell_type": "markdown",
   "metadata": {},
   "source": [
    "Rolling average of the closing prices of Ripple (XRP) over a 365-day window and assigns the result to a new column named 'month_average_365_days' in the closing_price "
   ]
  },
  {
   "cell_type": "code",
   "execution_count": 12,
   "metadata": {},
   "outputs": [
    {
     "name": "stderr",
     "output_type": "stream",
     "text": [
      "C:\\Users\\aivi1\\AppData\\Local\\Temp\\ipykernel_12504\\1759344284.py:1: SettingWithCopyWarning: \n",
      "A value is trying to be set on a copy of a slice from a DataFrame.\n",
      "Try using .loc[row_indexer,col_indexer] = value instead\n",
      "\n",
      "See the caveats in the documentation: https://pandas.pydata.org/pandas-docs/stable/user_guide/indexing.html#returning-a-view-versus-a-copy\n",
      "  closing_price.loc[:, 'month_average_365_days'] = closing_price['close'].rolling(window=365).mean()\n"
     ]
    },
    {
     "data": {
      "text/plain": [
       "Date\n",
       "2017-11-09   NaN\n",
       "2017-11-10   NaN\n",
       "2017-11-11   NaN\n",
       "2017-11-12   NaN\n",
       "2017-11-13   NaN\n",
       "Name: month_average_365_days, dtype: float64"
      ]
     },
     "execution_count": 12,
     "metadata": {},
     "output_type": "execute_result"
    }
   ],
   "source": [
    "closing_price.loc[:, 'month_average_365_days'] = closing_price['close'].rolling(window=365).mean()\n",
    "closing_price['month_average_365_days'].head()"
   ]
  },
  {
   "cell_type": "markdown",
   "metadata": {},
   "source": [
    "Ploting both the original closing prices of Ripple (XRP) and the 365-day rolling average of closing prices"
   ]
  },
  {
   "cell_type": "code",
   "execution_count": 13,
   "metadata": {},
   "outputs": [
    {
     "data": {
      "text/plain": [
       "<Figure size 640x480 with 0 Axes>"
      ]
     },
     "metadata": {},
     "output_type": "display_data"
    },
    {
     "data": {
      "image/png": "[encoded data removed]",
      "text/plain": [
       "<Figure size 1500x600 with 1 Axes>"
      ]
     },
     "metadata": {},
     "output_type": "display_data"
    }
   ],
   "source": [
    "plt.figure()\n",
    "closing_price[['close', 'month_average_365_days']].plot(figsize=(15, 6))\n",
    "plt.xlabel('Year')\n",
    "plt.ylabel('Closing Price')\n",
    "plt.title('Closing Price of XRP')\n",
    "plt.show()"
   ]
  },
  {
   "cell_type": "markdown",
   "metadata": {},
   "source": [
    "Calculates a 100-day rolling average of the closing prices of Ripple (XRP) and adds it as a new column named 'month_average_100_days' in the closing_price "
   ]
  },
  {
   "cell_type": "code",
   "execution_count": 14,
   "metadata": {},
   "outputs": [
    {
     "name": "stderr",
     "output_type": "stream",
     "text": [
      "C:\\Users\\aivi1\\AppData\\Local\\Temp\\ipykernel_12504\\2273741351.py:1: SettingWithCopyWarning: \n",
      "A value is trying to be set on a copy of a slice from a DataFrame.\n",
      "Try using .loc[row_indexer,col_indexer] = value instead\n",
      "\n",
      "See the caveats in the documentation: https://pandas.pydata.org/pandas-docs/stable/user_guide/indexing.html#returning-a-view-versus-a-copy\n",
      "  closing_price.loc[:, 'month_average_100_days'] = closing_price['close'].rolling(window=100).mean()\n"
     ]
    },
    {
     "data": {
      "text/plain": [
       "<Figure size 640x480 with 0 Axes>"
      ]
     },
     "metadata": {},
     "output_type": "display_data"
    },
    {
     "data": {
      "image/png": "[encoded data removed]",
      "text/plain": [
       "<Figure size 1500x600 with 1 Axes>"
      ]
     },
     "metadata": {},
     "output_type": "display_data"
    }
   ],
   "source": [
    "closing_price.loc[:, 'month_average_100_days'] = closing_price['close'].rolling(window=100).mean()\n",
    "\n",
    "plt.figure()\n",
    "closing_price[['close', 'month_average_100_days']].plot(figsize=(15, 6))\n",
    "plt.xlabel('Year')\n",
    "plt.ylabel('Closing Price')\n",
    "plt.title('Closing Price of XRP')\n",
    "plt.show()"
   ]
  },
  {
   "cell_type": "markdown",
   "metadata": {},
   "source": [
    "Scale the 'close' prices of Ripple (XRP) to a range between 0 and 1"
   ]
  },
  {
   "cell_type": "code",
   "execution_count": 15,
   "metadata": {},
   "outputs": [
    {
     "data": {
      "text/plain": [
       "array([[0.02404225],\n",
       "       [0.02064373],\n",
       "       [0.02186262],\n",
       "       ...,\n",
       "       [0.15234353],\n",
       "       [0.15484   ],\n",
       "       [0.1555113 ]])"
      ]
     },
     "execution_count": 15,
     "metadata": {},
     "output_type": "execute_result"
    }
   ],
   "source": [
    "from sklearn.preprocessing import MinMaxScaler\n",
    "\n",
    "# Scale the data\n",
    "scaler = MinMaxScaler(feature_range=(0, 1))\n",
    "scaled_data = scaler.fit_transform(closing_price[['close']].values)\n",
    "scaled_data"
   ]
  },
  {
   "cell_type": "code",
   "execution_count": 16,
   "metadata": {},
   "outputs": [
    {
     "data": {
      "text/plain": [
       "(2330, 1)"
      ]
     },
     "execution_count": 16,
     "metadata": {},
     "output_type": "execute_result"
    }
   ],
   "source": [
    "scaled_data.shape"
   ]
  },
  {
   "cell_type": "markdown",
   "metadata": {},
   "source": [
    "Creating training data for a time series forecasting model"
   ]
  },
  {
   "cell_type": "code",
   "execution_count": 17,
   "metadata": {},
   "outputs": [
    {
     "data": {
      "text/plain": [
       "(array([[0.02404225],\n",
       "        [0.02064373],\n",
       "        [0.02186262],\n",
       "        [0.01781991],\n",
       "        [0.01970462],\n",
       "        [0.02167579],\n",
       "        [0.02264269],\n",
       "        [0.02701275],\n",
       "        [0.02685031],\n",
       "        [0.02748215],\n",
       "        [0.02821991],\n",
       "        [0.03061107],\n",
       "        [0.02891629],\n",
       "        [0.03064195],\n",
       "        [0.03173609],\n",
       "        [0.03242784],\n",
       "        [0.03482147],\n",
       "        [0.03371745],\n",
       "        [0.03529519],\n",
       "        [0.04926139],\n",
       "        [0.03194052],\n",
       "        [0.03435361],\n",
       "        [0.03584241],\n",
       "        [0.03577849],\n",
       "        [0.03487242],\n",
       "        [0.03518525],\n",
       "        [0.0328784 ],\n",
       "        [0.02869178],\n",
       "        [0.02568978],\n",
       "        [0.0347387 ],\n",
       "        [0.03244822],\n",
       "        [0.0301707 ],\n",
       "        [0.03460468],\n",
       "        [0.0722339 ],\n",
       "        [0.10235024],\n",
       "        [0.22377666],\n",
       "        [0.19039922],\n",
       "        [0.19115922],\n",
       "        [0.18180951],\n",
       "        [0.19726296],\n",
       "        [0.20123126],\n",
       "        [0.19650853],\n",
       "        [0.32531443],\n",
       "        [0.30839749],\n",
       "        [0.31953338],\n",
       "        [0.27926686],\n",
       "        [0.30346879],\n",
       "        [0.32421193],\n",
       "        [0.3891096 ],\n",
       "        [0.398757  ],\n",
       "        [0.64078226],\n",
       "        [0.62361823],\n",
       "        [0.66733114],\n",
       "        [0.69526665],\n",
       "        [0.72301993],\n",
       "        [0.9158662 ],\n",
       "        [0.94404873],\n",
       "        [0.89836871],\n",
       "        [0.91234571],\n",
       "        [1.        ],\n",
       "        [0.71539521],\n",
       "        [0.6059416 ],\n",
       "        [0.56676524],\n",
       "        [0.55931657],\n",
       "        [0.58786046],\n",
       "        [0.58110353],\n",
       "        [0.53164358],\n",
       "        [0.47467942],\n",
       "        [0.32104657],\n",
       "        [0.36029707],\n",
       "        [0.44992782],\n",
       "        [0.43617624],\n",
       "        [0.44438147],\n",
       "        [0.38305683],\n",
       "        [0.37604978],\n",
       "        [0.36978699],\n",
       "        [0.37598801],\n",
       "        [0.362116  ],\n",
       "        [0.33279085],\n",
       "        [0.33335907],\n",
       "        [0.38909726],\n",
       "        [0.36574149],\n",
       "        [0.30848396],\n",
       "        [0.31584303],\n",
       "        [0.25412308],\n",
       "        [0.23011387],\n",
       "        [0.24223768],\n",
       "        [0.20878056],\n",
       "        [0.17051703],\n",
       "        [0.19664101],\n",
       "        [0.1804288 ],\n",
       "        [0.20555652],\n",
       "        [0.25162106],\n",
       "        [0.28754005],\n",
       "        [0.2669791 ],\n",
       "        [0.29071158],\n",
       "        [0.27415907],\n",
       "        [0.30942894],\n",
       "        [0.31104712],\n",
       "        [0.30832029]]),\n",
       " array([0.3289955]))"
      ]
     },
     "execution_count": 17,
     "metadata": {},
     "output_type": "execute_result"
    }
   ],
   "source": [
    "x_data = []\n",
    "y_data = []\n",
    "base_days = 100 \n",
    "\n",
    "for i in range(base_days, len(scaled_data)):\n",
    "    x_data.append(scaled_data[i-base_days: i])\n",
    "    y_data.append(scaled_data[i])\n",
    "\n",
    "x_data, y_data = np.array(x_data), np.array(y_data)\n",
    "x_data[0], y_data[0]"
   ]
  },
  {
   "cell_type": "markdown",
   "metadata": {},
   "source": [
    " The input-output pairs into training and testing sets for training and evaluating the time series forecasting model. It divides the data such that 90% is used for training (x_train and y_train), and the remaining 10% is used for testing (x_test and y_test)."
   ]
  },
  {
   "cell_type": "code",
   "execution_count": 18,
   "metadata": {},
   "outputs": [
    {
     "name": "stdout",
     "output_type": "stream",
     "text": [
      "(2007, 100, 1)\n",
      "(2007, 1)\n",
      "(223, 100, 1)\n",
      "(223, 1)\n"
     ]
    }
   ],
   "source": [
    "len_train = int(len(x_data) * 0.9) # 90% data\n",
    "x_train = x_data[:len_train]\n",
    "y_train = y_data[:len_train]\n",
    "\n",
    "x_test = x_data[len_train:]\n",
    "y_test = y_data[len_train:]\n",
    "\n",
    "print(x_train.shape)\n",
    "print(y_train.shape)\n",
    "print(x_test.shape)\n",
    "print(y_test.shape)"
   ]
  },
  {
   "cell_type": "markdown",
   "metadata": {},
   "source": [
    " Sequential model in Keras for time series forecasting using Long Short-Term Memory (LSTM) layers"
   ]
  },
  {
   "cell_type": "code",
   "execution_count": 20,
   "metadata": {},
   "outputs": [
    {
     "data": {
      "text/html": [
       "<pre style=\"white-space:pre;overflow-x:auto;line-height:normal;font-family:Menlo,'DejaVu Sans Mono',consolas,'Courier New',monospace\"><span style=\"font-weight: bold\">Model: \"sequential_1\"</span>\n",
       "</pre>\n"
      ],
      "text/plain": [
       "\u001b[1mModel: \"sequential_1\"\u001b[0m\n"
      ]
     },
     "metadata": {},
     "output_type": "display_data"
    },
    {
     "data": {
      "text/html": [
       "<pre style=\"white-space:pre;overflow-x:auto;line-height:normal;font-family:Menlo,'DejaVu Sans Mono',consolas,'Courier New',monospace\">┏━━━━━━━━━━━━━━━━━━━━━━━━━━━━━━━━━┳━━━━━━━━━━━━━━━━━━━━━━━━┳━━━━━━━━━━━━━━━┓\n",
       "┃<span style=\"font-weight: bold\"> Layer (type)                    </span>┃<span style=\"font-weight: bold\"> Output Shape           </span>┃<span style=\"font-weight: bold\">       Param # </span>┃\n",
       "┡━━━━━━━━━━━━━━━━━━━━━━━━━━━━━━━━━╇━━━━━━━━━━━━━━━━━━━━━━━━╇━━━━━━━━━━━━━━━┩\n",
       "│ lstm_2 (<span style=\"color: #0087ff; text-decoration-color: #0087ff\">LSTM</span>)                   │ (<span style=\"color: #00d7ff; text-decoration-color: #00d7ff\">None</span>, <span style=\"color: #00af00; text-decoration-color: #00af00\">100</span>, <span style=\"color: #00af00; text-decoration-color: #00af00\">128</span>)       │        <span style=\"color: #00af00; text-decoration-color: #00af00\">66,560</span> │\n",
       "├─────────────────────────────────┼────────────────────────┼───────────────┤\n",
       "│ lstm_3 (<span style=\"color: #0087ff; text-decoration-color: #0087ff\">LSTM</span>)                   │ (<span style=\"color: #00d7ff; text-decoration-color: #00d7ff\">None</span>, <span style=\"color: #00af00; text-decoration-color: #00af00\">64</span>)             │        <span style=\"color: #00af00; text-decoration-color: #00af00\">49,408</span> │\n",
       "├─────────────────────────────────┼────────────────────────┼───────────────┤\n",
       "│ dense_2 (<span style=\"color: #0087ff; text-decoration-color: #0087ff\">Dense</span>)                 │ (<span style=\"color: #00d7ff; text-decoration-color: #00d7ff\">None</span>, <span style=\"color: #00af00; text-decoration-color: #00af00\">25</span>)             │         <span style=\"color: #00af00; text-decoration-color: #00af00\">1,625</span> │\n",
       "├─────────────────────────────────┼────────────────────────┼───────────────┤\n",
       "│ dense_3 (<span style=\"color: #0087ff; text-decoration-color: #0087ff\">Dense</span>)                 │ (<span style=\"color: #00d7ff; text-decoration-color: #00d7ff\">None</span>, <span style=\"color: #00af00; text-decoration-color: #00af00\">1</span>)              │            <span style=\"color: #00af00; text-decoration-color: #00af00\">26</span> │\n",
       "└─────────────────────────────────┴────────────────────────┴───────────────┘\n",
       "</pre>\n"
      ],
      "text/plain": [
       "┏━━━━━━━━━━━━━━━━━━━━━━━━━━━━━━━━━┳━━━━━━━━━━━━━━━━━━━━━━━━┳━━━━━━━━━━━━━━━┓\n",
       "┃\u001b[1m \u001b[0m\u001b[1mLayer (type)                   \u001b[0m\u001b[1m \u001b[0m┃\u001b[1m \u001b[0m\u001b[1mOutput Shape          \u001b[0m\u001b[1m \u001b[0m┃\u001b[1m \u001b[0m\u001b[1m      Param #\u001b[0m\u001b[1m \u001b[0m┃\n",
       "┡━━━━━━━━━━━━━━━━━━━━━━━━━━━━━━━━━╇━━━━━━━━━━━━━━━━━━━━━━━━╇━━━━━━━━━━━━━━━┩\n",
       "│ lstm_2 (\u001b[38;5;33mLSTM\u001b[0m)                   │ (\u001b[38;5;45mNone\u001b[0m, \u001b[38;5;34m100\u001b[0m, \u001b[38;5;34m128\u001b[0m)       │        \u001b[38;5;34m66,560\u001b[0m │\n",
       "├─────────────────────────────────┼────────────────────────┼───────────────┤\n",
       "│ lstm_3 (\u001b[38;5;33mLSTM\u001b[0m)                   │ (\u001b[38;5;45mNone\u001b[0m, \u001b[38;5;34m64\u001b[0m)             │        \u001b[38;5;34m49,408\u001b[0m │\n",
       "├─────────────────────────────────┼────────────────────────┼───────────────┤\n",
       "│ dense_2 (\u001b[38;5;33mDense\u001b[0m)                 │ (\u001b[38;5;45mNone\u001b[0m, \u001b[38;5;34m25\u001b[0m)             │         \u001b[38;5;34m1,625\u001b[0m │\n",
       "├─────────────────────────────────┼────────────────────────┼───────────────┤\n",
       "│ dense_3 (\u001b[38;5;33mDense\u001b[0m)                 │ (\u001b[38;5;45mNone\u001b[0m, \u001b[38;5;34m1\u001b[0m)              │            \u001b[38;5;34m26\u001b[0m │\n",
       "└─────────────────────────────────┴────────────────────────┴───────────────┘\n"
      ]
     },
     "metadata": {},
     "output_type": "display_data"
    },
    {
     "data": {
      "text/html": [
       "<pre style=\"white-space:pre;overflow-x:auto;line-height:normal;font-family:Menlo,'DejaVu Sans Mono',consolas,'Courier New',monospace\"><span style=\"font-weight: bold\"> Total params: </span><span style=\"color: #00af00; text-decoration-color: #00af00\">117,619</span> (459.45 KB)\n",
       "</pre>\n"
      ],
      "text/plain": [
       "\u001b[1m Total params: \u001b[0m\u001b[38;5;34m117,619\u001b[0m (459.45 KB)\n"
      ]
     },
     "metadata": {},
     "output_type": "display_data"
    },
    {
     "data": {
      "text/html": [
       "<pre style=\"white-space:pre;overflow-x:auto;line-height:normal;font-family:Menlo,'DejaVu Sans Mono',consolas,'Courier New',monospace\"><span style=\"font-weight: bold\"> Trainable params: </span><span style=\"color: #00af00; text-decoration-color: #00af00\">117,619</span> (459.45 KB)\n",
       "</pre>\n"
      ],
      "text/plain": [
       "\u001b[1m Trainable params: \u001b[0m\u001b[38;5;34m117,619\u001b[0m (459.45 KB)\n"
      ]
     },
     "metadata": {},
     "output_type": "display_data"
    },
    {
     "data": {
      "text/html": [
       "<pre style=\"white-space:pre;overflow-x:auto;line-height:normal;font-family:Menlo,'DejaVu Sans Mono',consolas,'Courier New',monospace\"><span style=\"font-weight: bold\"> Non-trainable params: </span><span style=\"color: #00af00; text-decoration-color: #00af00\">0</span> (0.00 B)\n",
       "</pre>\n"
      ],
      "text/plain": [
       "\u001b[1m Non-trainable params: \u001b[0m\u001b[38;5;34m0\u001b[0m (0.00 B)\n"
      ]
     },
     "metadata": {},
     "output_type": "display_data"
    }
   ],
   "source": [
    "from keras.models import Sequential\n",
    "from keras.layers import Dense, LSTM\n",
    "\n",
    "model = Sequential()\n",
    "\n",
    "model.add(LSTM(128, return_sequences = True, input_shape = (x_train.shape[1], 1)))\n",
    "\n",
    "model.add(LSTM(64, return_sequences=False))\n",
    "\n",
    "model.add(Dense(25))\n",
    "model.add(Dense(1))\n",
    "\n",
    "model.summary()"
   ]
  },
  {
   "cell_type": "markdown",
   "metadata": {},
   "source": [
    "The Adam optimizer is commonly used for training deep learning models, and mean squared error is a standard loss function for regression tasks"
   ]
  },
  {
   "cell_type": "code",
   "execution_count": 21,
   "metadata": {},
   "outputs": [],
   "source": [
    "model.compile(optimizer='adam', loss='mean_squared_error')"
   ]
  },
  {
   "cell_type": "markdown",
   "metadata": {},
   "source": [
    "Model to the training data (x_train and y_train) using a batch size of 5 and training for 10 epochs"
   ]
  },
  {
   "cell_type": "code",
   "execution_count": 22,
   "metadata": {},
   "outputs": [
    {
     "name": "stdout",
     "output_type": "stream",
     "text": [
      "Epoch 1/10\n",
      "\u001b[1m402/402\u001b[0m \u001b[32m━━━━━━━━━━━━━━━━━━━━\u001b[0m\u001b[37m\u001b[0m \u001b[1m18s\u001b[0m 39ms/step - loss: 0.0012\n",
      "Epoch 2/10\n",
      "\u001b[1m402/402\u001b[0m \u001b[32m━━━━━━━━━━━━━━━━━━━━\u001b[0m\u001b[37m\u001b[0m \u001b[1m16s\u001b[0m 39ms/step - loss: 4.4954e-04\n",
      "Epoch 3/10\n",
      "\u001b[1m402/402\u001b[0m \u001b[32m━━━━━━━━━━━━━━━━━━━━\u001b[0m\u001b[37m\u001b[0m \u001b[1m16s\u001b[0m 39ms/step - loss: 2.9495e-04\n",
      "Epoch 4/10\n",
      "\u001b[1m402/402\u001b[0m \u001b[32m━━━━━━━━━━━━━━━━━━━━\u001b[0m\u001b[37m\u001b[0m \u001b[1m15s\u001b[0m 37ms/step - loss: 2.4223e-04\n",
      "Epoch 5/10\n",
      "\u001b[1m402/402\u001b[0m \u001b[32m━━━━━━━━━━━━━━━━━━━━\u001b[0m\u001b[37m\u001b[0m \u001b[1m15s\u001b[0m 38ms/step - loss: 2.1404e-04\n",
      "Epoch 6/10\n",
      "\u001b[1m402/402\u001b[0m \u001b[32m━━━━━━━━━━━━━━━━━━━━\u001b[0m\u001b[37m\u001b[0m \u001b[1m15s\u001b[0m 38ms/step - loss: 1.7870e-04\n",
      "Epoch 7/10\n",
      "\u001b[1m402/402\u001b[0m \u001b[32m━━━━━━━━━━━━━━━━━━━━\u001b[0m\u001b[37m\u001b[0m \u001b[1m15s\u001b[0m 38ms/step - loss: 2.4809e-04\n",
      "Epoch 8/10\n",
      "\u001b[1m402/402\u001b[0m \u001b[32m━━━━━━━━━━━━━━━━━━━━\u001b[0m\u001b[37m\u001b[0m \u001b[1m15s\u001b[0m 38ms/step - loss: 1.9761e-04\n",
      "Epoch 9/10\n",
      "\u001b[1m402/402\u001b[0m \u001b[32m━━━━━━━━━━━━━━━━━━━━\u001b[0m\u001b[37m\u001b[0m \u001b[1m15s\u001b[0m 38ms/step - loss: 1.4906e-04\n",
      "Epoch 10/10\n",
      "\u001b[1m402/402\u001b[0m \u001b[32m━━━━━━━━━━━━━━━━━━━━\u001b[0m\u001b[37m\u001b[0m \u001b[1m15s\u001b[0m 38ms/step - loss: 2.9657e-04\n"
     ]
    },
    {
     "data": {
      "text/plain": [
       "<keras.src.callbacks.history.History at 0x260896fef60>"
      ]
     },
     "execution_count": 22,
     "metadata": {},
     "output_type": "execute_result"
    }
   ],
   "source": [
    "model.fit(x_train, y_train, batch_size = 5, epochs = 10)"
   ]
  },
  {
   "cell_type": "markdown",
   "metadata": {},
   "source": [
    "Predictions using the trained model on the test data x_test"
   ]
  },
  {
   "cell_type": "code",
   "execution_count": 23,
   "metadata": {},
   "outputs": [
    {
     "name": "stdout",
     "output_type": "stream",
     "text": [
      "\u001b[1m7/7\u001b[0m \u001b[32m━━━━━━━━━━━━━━━━━━━━\u001b[0m\u001b[37m\u001b[0m \u001b[1m1s\u001b[0m 69ms/step\n"
     ]
    },
    {
     "data": {
      "text/plain": [
       "array([[0.14640707],\n",
       "       [0.12321021],\n",
       "       [0.11934674],\n",
       "       [0.12339593],\n",
       "       [0.13000472],\n",
       "       [0.12702765],\n",
       "       [0.12530237],\n",
       "       [0.12752864],\n",
       "       [0.12483164],\n",
       "       [0.12644044],\n",
       "       [0.12603201],\n",
       "       [0.12600528],\n",
       "       [0.12582633],\n",
       "       [0.13039382],\n",
       "       [0.12790401],\n",
       "       [0.1225182 ],\n",
       "       [0.11814806],\n",
       "       [0.11787581],\n",
       "       [0.11968258],\n",
       "       [0.12098417],\n",
       "       [0.12035757],\n",
       "       [0.11959812],\n",
       "       [0.11991616],\n",
       "       [0.11999772],\n",
       "       [0.11973213],\n",
       "       [0.11802633],\n",
       "       [0.1113321 ],\n",
       "       [0.11196078],\n",
       "       [0.11318199],\n",
       "       [0.11500135],\n",
       "       [0.1184214 ],\n",
       "       [0.11867233],\n",
       "       [0.11668892],\n",
       "       [0.11906586],\n",
       "       [0.12253063],\n",
       "       [0.12501691],\n",
       "       [0.12139729],\n",
       "       [0.12208316],\n",
       "       [0.1210679 ],\n",
       "       [0.11933449],\n",
       "       [0.11991327],\n",
       "       [0.11906575],\n",
       "       [0.11834271],\n",
       "       [0.12097487],\n",
       "       [0.12481637],\n",
       "       [0.12365968],\n",
       "       [0.12570083],\n",
       "       [0.12293155],\n",
       "       [0.12937528],\n",
       "       [0.12906279],\n",
       "       [0.12614788],\n",
       "       [0.12637511],\n",
       "       [0.1253303 ],\n",
       "       [0.12408247],\n",
       "       [0.11988305],\n",
       "       [0.11763943],\n",
       "       [0.11508852],\n",
       "       [0.11320852],\n",
       "       [0.11375567],\n",
       "       [0.11427382],\n",
       "       [0.11468206],\n",
       "       [0.1175198 ],\n",
       "       [0.11628364],\n",
       "       [0.11502821],\n",
       "       [0.12353135],\n",
       "       [0.12392086],\n",
       "       [0.12509307],\n",
       "       [0.12552695],\n",
       "       [0.13220036],\n",
       "       [0.1364869 ],\n",
       "       [0.13602999],\n",
       "       [0.1352499 ],\n",
       "       [0.1329684 ],\n",
       "       [0.13238508],\n",
       "       [0.13539597],\n",
       "       [0.14216006],\n",
       "       [0.14907624],\n",
       "       [0.152481  ],\n",
       "       [0.15182346],\n",
       "       [0.15328753],\n",
       "       [0.15434724],\n",
       "       [0.16689654],\n",
       "       [0.18396194],\n",
       "       [0.17794143],\n",
       "       [0.17666073],\n",
       "       [0.17071809],\n",
       "       [0.16789824],\n",
       "       [0.16829704],\n",
       "       [0.16821437],\n",
       "       [0.17103532],\n",
       "       [0.15991639],\n",
       "       [0.1636216 ],\n",
       "       [0.15427208],\n",
       "       [0.15319636],\n",
       "       [0.15272102],\n",
       "       [0.1573226 ],\n",
       "       [0.1541006 ],\n",
       "       [0.14450878],\n",
       "       [0.15171708],\n",
       "       [0.15560311],\n",
       "       [0.15651244],\n",
       "       [0.15690221],\n",
       "       [0.15503344],\n",
       "       [0.15117536],\n",
       "       [0.1526052 ],\n",
       "       [0.15242185],\n",
       "       [0.15154621],\n",
       "       [0.15322147],\n",
       "       [0.15575568],\n",
       "       [0.15686548],\n",
       "       [0.1571066 ],\n",
       "       [0.1564066 ],\n",
       "       [0.16133223],\n",
       "       [0.16304173],\n",
       "       [0.17130716],\n",
       "       [0.16849427],\n",
       "       [0.16844848],\n",
       "       [0.15697868],\n",
       "       [0.15496396],\n",
       "       [0.15756106],\n",
       "       [0.15927824],\n",
       "       [0.15484612],\n",
       "       [0.15528145],\n",
       "       [0.15291671],\n",
       "       [0.15315329],\n",
       "       [0.15135154],\n",
       "       [0.15436661],\n",
       "       [0.15676294],\n",
       "       [0.15746737],\n",
       "       [0.15602337],\n",
       "       [0.15387553],\n",
       "       [0.16264684],\n",
       "       [0.15749395],\n",
       "       [0.15980288],\n",
       "       [0.16032237],\n",
       "       [0.15711969],\n",
       "       [0.15613604],\n",
       "       [0.15418108],\n",
       "       [0.15812396],\n",
       "       [0.15755223],\n",
       "       [0.14552806],\n",
       "       [0.14512768],\n",
       "       [0.14229979],\n",
       "       [0.13978781],\n",
       "       [0.13493548],\n",
       "       [0.14149058],\n",
       "       [0.13972367],\n",
       "       [0.14844735],\n",
       "       [0.15049718],\n",
       "       [0.1417188 ],\n",
       "       [0.14140932],\n",
       "       [0.141951  ],\n",
       "       [0.14202476],\n",
       "       [0.14204511],\n",
       "       [0.13984932],\n",
       "       [0.13506198],\n",
       "       [0.13224313],\n",
       "       [0.13441679],\n",
       "       [0.13302845],\n",
       "       [0.12744327],\n",
       "       [0.12409034],\n",
       "       [0.12382182],\n",
       "       [0.12277507],\n",
       "       [0.12776518],\n",
       "       [0.12816307],\n",
       "       [0.1263647 ],\n",
       "       [0.12901145],\n",
       "       [0.12281895],\n",
       "       [0.11959967],\n",
       "       [0.11998415],\n",
       "       [0.12147212],\n",
       "       [0.12410194],\n",
       "       [0.12022588],\n",
       "       [0.12025014],\n",
       "       [0.12007467],\n",
       "       [0.12243258],\n",
       "       [0.12305771],\n",
       "       [0.12622811],\n",
       "       [0.12619485],\n",
       "       [0.12658337],\n",
       "       [0.12819992],\n",
       "       [0.12650082],\n",
       "       [0.12985274],\n",
       "       [0.13716099],\n",
       "       [0.13887134],\n",
       "       [0.13468581],\n",
       "       [0.1357506 ],\n",
       "       [0.13760146],\n",
       "       [0.13797772],\n",
       "       [0.13413748],\n",
       "       [0.13123724],\n",
       "       [0.12913933],\n",
       "       [0.13184626],\n",
       "       [0.13170293],\n",
       "       [0.13409048],\n",
       "       [0.14409651],\n",
       "       [0.14279129],\n",
       "       [0.14505458],\n",
       "       [0.14965558],\n",
       "       [0.16217232],\n",
       "       [0.15902391],\n",
       "       [0.16434157],\n",
       "       [0.14930499],\n",
       "       [0.15198258],\n",
       "       [0.15746394],\n",
       "       [0.15653053],\n",
       "       [0.1561567 ],\n",
       "       [0.15239862],\n",
       "       [0.18227226],\n",
       "       [0.17877486],\n",
       "       [0.17786899],\n",
       "       [0.1717173 ],\n",
       "       [0.16066796],\n",
       "       [0.15067118],\n",
       "       [0.15403044],\n",
       "       [0.16297077],\n",
       "       [0.14700761],\n",
       "       [0.15178387],\n",
       "       [0.16102539],\n",
       "       [0.15424597],\n",
       "       [0.15465067],\n",
       "       [0.15914114],\n",
       "       [0.16211908]], dtype=float32)"
      ]
     },
     "execution_count": 23,
     "metadata": {},
     "output_type": "execute_result"
    }
   ],
   "source": [
    "predictions = model.predict(x_test)\n",
    "predictions"
   ]
  },
  {
   "cell_type": "markdown",
   "metadata": {},
   "source": [
    "This will convert the scaled predictions back to the original scale of the closing prices"
   ]
  },
  {
   "cell_type": "code",
   "execution_count": 24,
   "metadata": {},
   "outputs": [
    {
     "data": {
      "text/plain": [
       "array([[0.61372674],\n",
       "       [0.53861123],\n",
       "       [0.52610064],\n",
       "       [0.5392126 ],\n",
       "       [0.56061304],\n",
       "       [0.55097276],\n",
       "       [0.545386  ],\n",
       "       [0.5525951 ],\n",
       "       [0.5438617 ],\n",
       "       [0.54907125],\n",
       "       [0.54774874],\n",
       "       [0.54766214],\n",
       "       [0.54708266],\n",
       "       [0.561873  ],\n",
       "       [0.5538106 ],\n",
       "       [0.5363704 ],\n",
       "       [0.5222191 ],\n",
       "       [0.5213375 ],\n",
       "       [0.5271882 ],\n",
       "       [0.53140295],\n",
       "       [0.5293738 ],\n",
       "       [0.52691466],\n",
       "       [0.5279445 ],\n",
       "       [0.5282086 ],\n",
       "       [0.5273486 ],\n",
       "       [0.52182496],\n",
       "       [0.5001479 ],\n",
       "       [0.50218356],\n",
       "       [0.5061381 ],\n",
       "       [0.5120295 ],\n",
       "       [0.5231042 ],\n",
       "       [0.5239168 ],\n",
       "       [0.51749414],\n",
       "       [0.52519107],\n",
       "       [0.5364106 ],\n",
       "       [0.54446167],\n",
       "       [0.53274065],\n",
       "       [0.53496164],\n",
       "       [0.531674  ],\n",
       "       [0.526061  ],\n",
       "       [0.52793515],\n",
       "       [0.5251908 ],\n",
       "       [0.52284944],\n",
       "       [0.5313728 ],\n",
       "       [0.5438122 ],\n",
       "       [0.54006666],\n",
       "       [0.5466763 ],\n",
       "       [0.5377089 ],\n",
       "       [0.5585748 ],\n",
       "       [0.5575629 ],\n",
       "       [0.54812396],\n",
       "       [0.5488597 ],\n",
       "       [0.54547644],\n",
       "       [0.5414357 ],\n",
       "       [0.5278373 ],\n",
       "       [0.52057207],\n",
       "       [0.5123118 ],\n",
       "       [0.50622404],\n",
       "       [0.5079958 ],\n",
       "       [0.50967366],\n",
       "       [0.51099557],\n",
       "       [0.5201847 ],\n",
       "       [0.51618177],\n",
       "       [0.5121165 ],\n",
       "       [0.5396511 ],\n",
       "       [0.54091245],\n",
       "       [0.54470825],\n",
       "       [0.54611325],\n",
       "       [0.5677229 ],\n",
       "       [0.58160347],\n",
       "       [0.5801239 ],\n",
       "       [0.57759786],\n",
       "       [0.57021   ],\n",
       "       [0.56832105],\n",
       "       [0.5780709 ],\n",
       "       [0.59997416],\n",
       "       [0.62236995],\n",
       "       [0.6333952 ],\n",
       "       [0.63126594],\n",
       "       [0.6360069 ],\n",
       "       [0.6394384 ],\n",
       "       [0.6800752 ],\n",
       "       [0.735336  ],\n",
       "       [0.7158405 ],\n",
       "       [0.7116934 ],\n",
       "       [0.69245005],\n",
       "       [0.6833189 ],\n",
       "       [0.6846103 ],\n",
       "       [0.68434256],\n",
       "       [0.69347733],\n",
       "       [0.65747225],\n",
       "       [0.6694704 ],\n",
       "       [0.639195  ],\n",
       "       [0.63571167],\n",
       "       [0.6341724 ],\n",
       "       [0.6490731 ],\n",
       "       [0.63863975],\n",
       "       [0.6075797 ],\n",
       "       [0.6309215 ],\n",
       "       [0.6435051 ],\n",
       "       [0.6464497 ],\n",
       "       [0.6477118 ],\n",
       "       [0.64166045],\n",
       "       [0.6291673 ],\n",
       "       [0.6337974 ],\n",
       "       [0.6332036 ],\n",
       "       [0.6303682 ],\n",
       "       [0.635793  ],\n",
       "       [0.64399916],\n",
       "       [0.6475929 ],\n",
       "       [0.64837366],\n",
       "       [0.64610696],\n",
       "       [0.66205704],\n",
       "       [0.66759264],\n",
       "       [0.6943576 ],\n",
       "       [0.685249  ],\n",
       "       [0.6851007 ],\n",
       "       [0.6479595 ],\n",
       "       [0.64143544],\n",
       "       [0.6498453 ],\n",
       "       [0.6554058 ],\n",
       "       [0.64105386],\n",
       "       [0.64246356],\n",
       "       [0.6348061 ],\n",
       "       [0.63557214],\n",
       "       [0.6297378 ],\n",
       "       [0.6395011 ],\n",
       "       [0.64726084],\n",
       "       [0.6495419 ],\n",
       "       [0.644866  ],\n",
       "       [0.6379109 ],\n",
       "       [0.66631395],\n",
       "       [0.649628  ],\n",
       "       [0.65710473],\n",
       "       [0.6587869 ],\n",
       "       [0.6484161 ],\n",
       "       [0.6452308 ],\n",
       "       [0.63890034],\n",
       "       [0.6516681 ],\n",
       "       [0.6498167 ],\n",
       "       [0.6108804 ],\n",
       "       [0.60958385],\n",
       "       [0.6004266 ],\n",
       "       [0.5922924 ],\n",
       "       [0.57657975],\n",
       "       [0.5978063 ],\n",
       "       [0.5920847 ],\n",
       "       [0.6203335 ],\n",
       "       [0.62697124],\n",
       "       [0.5985453 ],\n",
       "       [0.5975432 ],\n",
       "       [0.59929717],\n",
       "       [0.599536  ],\n",
       "       [0.5996019 ],\n",
       "       [0.59249157],\n",
       "       [0.57698935],\n",
       "       [0.5678614 ],\n",
       "       [0.5749001 ],\n",
       "       [0.5704044 ],\n",
       "       [0.55231863],\n",
       "       [0.5414613 ],\n",
       "       [0.5405918 ],\n",
       "       [0.5372022 ],\n",
       "       [0.553361  ],\n",
       "       [0.5546495 ],\n",
       "       [0.548826  ],\n",
       "       [0.55739665],\n",
       "       [0.5373443 ],\n",
       "       [0.52691966],\n",
       "       [0.5281647 ],\n",
       "       [0.532983  ],\n",
       "       [0.5414988 ],\n",
       "       [0.5289475 ],\n",
       "       [0.529026  ],\n",
       "       [0.52845776],\n",
       "       [0.5360931 ],\n",
       "       [0.5381174 ],\n",
       "       [0.5483837 ],\n",
       "       [0.548276  ],\n",
       "       [0.54953414],\n",
       "       [0.5547688 ],\n",
       "       [0.5492668 ],\n",
       "       [0.56012094],\n",
       "       [0.5837863 ],\n",
       "       [0.5893247 ],\n",
       "       [0.5757713 ],\n",
       "       [0.5792192 ],\n",
       "       [0.58521265],\n",
       "       [0.586431  ],\n",
       "       [0.57399565],\n",
       "       [0.56460416],\n",
       "       [0.5578108 ],\n",
       "       [0.5665763 ],\n",
       "       [0.56611216],\n",
       "       [0.5738435 ],\n",
       "       [0.60624474],\n",
       "       [0.6020182 ],\n",
       "       [0.6093471 ],\n",
       "       [0.624246  ],\n",
       "       [0.66477734],\n",
       "       [0.65458226],\n",
       "       [0.6718018 ],\n",
       "       [0.6231107 ],\n",
       "       [0.6317812 ],\n",
       "       [0.6495308 ],\n",
       "       [0.6465083 ],\n",
       "       [0.64529777],\n",
       "       [0.6331284 ],\n",
       "       [0.7298645 ],\n",
       "       [0.7185393 ],\n",
       "       [0.7156059 ],\n",
       "       [0.6956857 ],\n",
       "       [0.65990597],\n",
       "       [0.6275347 ],\n",
       "       [0.63841254],\n",
       "       [0.66736287],\n",
       "       [0.6156714 ],\n",
       "       [0.6311377 ],\n",
       "       [0.66106343],\n",
       "       [0.63911045],\n",
       "       [0.640421  ],\n",
       "       [0.6549619 ],\n",
       "       [0.66460496]], dtype=float32)"
      ]
     },
     "execution_count": 24,
     "metadata": {},
     "output_type": "execute_result"
    }
   ],
   "source": [
    "inverse_predictions = scaler.inverse_transform(predictions)\n",
    "inverse_predictions"
   ]
  },
  {
   "cell_type": "markdown",
   "metadata": {},
   "source": [
    "Display the first five elements of both the inverse-transformed predictions (inverse_predictions) and the inverse-transformed test target values (inverse_y_test)"
   ]
  },
  {
   "cell_type": "code",
   "execution_count": 25,
   "metadata": {},
   "outputs": [
    {
     "data": {
      "text/plain": [
       "(array([[0.61372674],\n",
       "        [0.53861123],\n",
       "        [0.52610064],\n",
       "        [0.5392126 ],\n",
       "        [0.56061304],\n",
       "        [0.55097276],\n",
       "        [0.545386  ],\n",
       "        [0.5525951 ],\n",
       "        [0.5438617 ],\n",
       "        [0.54907125],\n",
       "        [0.54774874],\n",
       "        [0.54766214],\n",
       "        [0.54708266],\n",
       "        [0.561873  ],\n",
       "        [0.5538106 ],\n",
       "        [0.5363704 ],\n",
       "        [0.5222191 ],\n",
       "        [0.5213375 ],\n",
       "        [0.5271882 ],\n",
       "        [0.53140295],\n",
       "        [0.5293738 ],\n",
       "        [0.52691466],\n",
       "        [0.5279445 ],\n",
       "        [0.5282086 ],\n",
       "        [0.5273486 ],\n",
       "        [0.52182496],\n",
       "        [0.5001479 ],\n",
       "        [0.50218356],\n",
       "        [0.5061381 ],\n",
       "        [0.5120295 ],\n",
       "        [0.5231042 ],\n",
       "        [0.5239168 ],\n",
       "        [0.51749414],\n",
       "        [0.52519107],\n",
       "        [0.5364106 ],\n",
       "        [0.54446167],\n",
       "        [0.53274065],\n",
       "        [0.53496164],\n",
       "        [0.531674  ],\n",
       "        [0.526061  ],\n",
       "        [0.52793515],\n",
       "        [0.5251908 ],\n",
       "        [0.52284944],\n",
       "        [0.5313728 ],\n",
       "        [0.5438122 ],\n",
       "        [0.54006666],\n",
       "        [0.5466763 ],\n",
       "        [0.5377089 ],\n",
       "        [0.5585748 ],\n",
       "        [0.5575629 ],\n",
       "        [0.54812396],\n",
       "        [0.5488597 ],\n",
       "        [0.54547644],\n",
       "        [0.5414357 ],\n",
       "        [0.5278373 ],\n",
       "        [0.52057207],\n",
       "        [0.5123118 ],\n",
       "        [0.50622404],\n",
       "        [0.5079958 ],\n",
       "        [0.50967366],\n",
       "        [0.51099557],\n",
       "        [0.5201847 ],\n",
       "        [0.51618177],\n",
       "        [0.5121165 ],\n",
       "        [0.5396511 ],\n",
       "        [0.54091245],\n",
       "        [0.54470825],\n",
       "        [0.54611325],\n",
       "        [0.5677229 ],\n",
       "        [0.58160347],\n",
       "        [0.5801239 ],\n",
       "        [0.57759786],\n",
       "        [0.57021   ],\n",
       "        [0.56832105],\n",
       "        [0.5780709 ],\n",
       "        [0.59997416],\n",
       "        [0.62236995],\n",
       "        [0.6333952 ],\n",
       "        [0.63126594],\n",
       "        [0.6360069 ],\n",
       "        [0.6394384 ],\n",
       "        [0.6800752 ],\n",
       "        [0.735336  ],\n",
       "        [0.7158405 ],\n",
       "        [0.7116934 ],\n",
       "        [0.69245005],\n",
       "        [0.6833189 ],\n",
       "        [0.6846103 ],\n",
       "        [0.68434256],\n",
       "        [0.69347733],\n",
       "        [0.65747225],\n",
       "        [0.6694704 ],\n",
       "        [0.639195  ],\n",
       "        [0.63571167],\n",
       "        [0.6341724 ],\n",
       "        [0.6490731 ],\n",
       "        [0.63863975],\n",
       "        [0.6075797 ],\n",
       "        [0.6309215 ],\n",
       "        [0.6435051 ],\n",
       "        [0.6464497 ],\n",
       "        [0.6477118 ],\n",
       "        [0.64166045],\n",
       "        [0.6291673 ],\n",
       "        [0.6337974 ],\n",
       "        [0.6332036 ],\n",
       "        [0.6303682 ],\n",
       "        [0.635793  ],\n",
       "        [0.64399916],\n",
       "        [0.6475929 ],\n",
       "        [0.64837366],\n",
       "        [0.64610696],\n",
       "        [0.66205704],\n",
       "        [0.66759264],\n",
       "        [0.6943576 ],\n",
       "        [0.685249  ],\n",
       "        [0.6851007 ],\n",
       "        [0.6479595 ],\n",
       "        [0.64143544],\n",
       "        [0.6498453 ],\n",
       "        [0.6554058 ],\n",
       "        [0.64105386],\n",
       "        [0.64246356],\n",
       "        [0.6348061 ],\n",
       "        [0.63557214],\n",
       "        [0.6297378 ],\n",
       "        [0.6395011 ],\n",
       "        [0.64726084],\n",
       "        [0.6495419 ],\n",
       "        [0.644866  ],\n",
       "        [0.6379109 ],\n",
       "        [0.66631395],\n",
       "        [0.649628  ],\n",
       "        [0.65710473],\n",
       "        [0.6587869 ],\n",
       "        [0.6484161 ],\n",
       "        [0.6452308 ],\n",
       "        [0.63890034],\n",
       "        [0.6516681 ],\n",
       "        [0.6498167 ],\n",
       "        [0.6108804 ],\n",
       "        [0.60958385],\n",
       "        [0.6004266 ],\n",
       "        [0.5922924 ],\n",
       "        [0.57657975],\n",
       "        [0.5978063 ],\n",
       "        [0.5920847 ],\n",
       "        [0.6203335 ],\n",
       "        [0.62697124],\n",
       "        [0.5985453 ],\n",
       "        [0.5975432 ],\n",
       "        [0.59929717],\n",
       "        [0.599536  ],\n",
       "        [0.5996019 ],\n",
       "        [0.59249157],\n",
       "        [0.57698935],\n",
       "        [0.5678614 ],\n",
       "        [0.5749001 ],\n",
       "        [0.5704044 ],\n",
       "        [0.55231863],\n",
       "        [0.5414613 ],\n",
       "        [0.5405918 ],\n",
       "        [0.5372022 ],\n",
       "        [0.553361  ],\n",
       "        [0.5546495 ],\n",
       "        [0.548826  ],\n",
       "        [0.55739665],\n",
       "        [0.5373443 ],\n",
       "        [0.52691966],\n",
       "        [0.5281647 ],\n",
       "        [0.532983  ],\n",
       "        [0.5414988 ],\n",
       "        [0.5289475 ],\n",
       "        [0.529026  ],\n",
       "        [0.52845776],\n",
       "        [0.5360931 ],\n",
       "        [0.5381174 ],\n",
       "        [0.5483837 ],\n",
       "        [0.548276  ],\n",
       "        [0.54953414],\n",
       "        [0.5547688 ],\n",
       "        [0.5492668 ],\n",
       "        [0.56012094],\n",
       "        [0.5837863 ],\n",
       "        [0.5893247 ],\n",
       "        [0.5757713 ],\n",
       "        [0.5792192 ],\n",
       "        [0.58521265],\n",
       "        [0.586431  ],\n",
       "        [0.57399565],\n",
       "        [0.56460416],\n",
       "        [0.5578108 ],\n",
       "        [0.5665763 ],\n",
       "        [0.56611216],\n",
       "        [0.5738435 ],\n",
       "        [0.60624474],\n",
       "        [0.6020182 ],\n",
       "        [0.6093471 ],\n",
       "        [0.624246  ],\n",
       "        [0.66477734],\n",
       "        [0.65458226],\n",
       "        [0.6718018 ],\n",
       "        [0.6231107 ],\n",
       "        [0.6317812 ],\n",
       "        [0.6495308 ],\n",
       "        [0.6465083 ],\n",
       "        [0.64529777],\n",
       "        [0.6331284 ],\n",
       "        [0.7298645 ],\n",
       "        [0.7185393 ],\n",
       "        [0.7156059 ],\n",
       "        [0.6956857 ],\n",
       "        [0.65990597],\n",
       "        [0.6275347 ],\n",
       "        [0.63841254],\n",
       "        [0.66736287],\n",
       "        [0.6156714 ],\n",
       "        [0.6311377 ],\n",
       "        [0.66106343],\n",
       "        [0.63911045],\n",
       "        [0.640421  ],\n",
       "        [0.6549619 ],\n",
       "        [0.66460496]], dtype=float32),\n",
       " array([[0.50714201],\n",
       "        [0.5061    ],\n",
       "        [0.519629  ],\n",
       "        [0.53954703],\n",
       "        [0.52453798],\n",
       "        [0.52092999],\n",
       "        [0.52990198],\n",
       "        [0.51841301],\n",
       "        [0.52624601],\n",
       "        [0.52346998],\n",
       "        [0.523844  ],\n",
       "        [0.52324802],\n",
       "        [0.54006499],\n",
       "        [0.52819401],\n",
       "        [0.51079899],\n",
       "        [0.49807501],\n",
       "        [0.499091  ],\n",
       "        [0.50504899],\n",
       "        [0.50837499],\n",
       "        [0.50541103],\n",
       "        [0.50324303],\n",
       "        [0.504857  ],\n",
       "        [0.50484997],\n",
       "        [0.50385499],\n",
       "        [0.497814  ],\n",
       "        [0.474374  ],\n",
       "        [0.48073801],\n",
       "        [0.48377499],\n",
       "        [0.48945701],\n",
       "        [0.500875  ],\n",
       "        [0.49987999],\n",
       "        [0.49304101],\n",
       "        [0.50320297],\n",
       "        [0.51415098],\n",
       "        [0.52135497],\n",
       "        [0.50717902],\n",
       "        [0.51251   ],\n",
       "        [0.50803399],\n",
       "        [0.502388  ],\n",
       "        [0.50546098],\n",
       "        [0.50170797],\n",
       "        [0.49959701],\n",
       "        [0.509525  ],\n",
       "        [0.52171898],\n",
       "        [0.515405  ],\n",
       "        [0.52420402],\n",
       "        [0.51283199],\n",
       "        [0.538387  ],\n",
       "        [0.53293103],\n",
       "        [0.52336597],\n",
       "        [0.52619302],\n",
       "        [0.52190602],\n",
       "        [0.51796103],\n",
       "        [0.503227  ],\n",
       "        [0.49743599],\n",
       "        [0.48883799],\n",
       "        [0.48304999],\n",
       "        [0.485699  ],\n",
       "        [0.48677501],\n",
       "        [0.48784599],\n",
       "        [0.49797699],\n",
       "        [0.491694  ],\n",
       "        [0.48831901],\n",
       "        [0.520127  ],\n",
       "        [0.51600403],\n",
       "        [0.52124298],\n",
       "        [0.52248698],\n",
       "        [0.54686999],\n",
       "        [0.558532  ],\n",
       "        [0.55530602],\n",
       "        [0.55368298],\n",
       "        [0.54610699],\n",
       "        [0.54539102],\n",
       "        [0.55639398],\n",
       "        [0.57894403],\n",
       "        [0.60028201],\n",
       "        [0.60953802],\n",
       "        [0.60643899],\n",
       "        [0.613002  ],\n",
       "        [0.616184  ],\n",
       "        [0.661147  ],\n",
       "        [0.71551698],\n",
       "        [0.68640202],\n",
       "        [0.68807602],\n",
       "        [0.66747499],\n",
       "        [0.66057497],\n",
       "        [0.66273499],\n",
       "        [0.66153598],\n",
       "        [0.67152399],\n",
       "        [0.629673  ],\n",
       "        [0.64964801],\n",
       "        [0.61216801],\n",
       "        [0.61371702],\n",
       "        [0.61118901],\n",
       "        [0.62749898],\n",
       "        [0.61284202],\n",
       "        [0.58046198],\n",
       "        [0.61189902],\n",
       "        [0.620242  ],\n",
       "        [0.62188101],\n",
       "        [0.62344402],\n",
       "        [0.61681902],\n",
       "        [0.60415298],\n",
       "        [0.611422  ],\n",
       "        [0.60935801],\n",
       "        [0.60635799],\n",
       "        [0.61291498],\n",
       "        [0.62097597],\n",
       "        [0.62372297],\n",
       "        [0.62437397],\n",
       "        [0.621997  ],\n",
       "        [0.640333  ],\n",
       "        [0.64363199],\n",
       "        [0.67313802],\n",
       "        [0.65881401],\n",
       "        [0.661578  ],\n",
       "        [0.62021101],\n",
       "        [0.61954898],\n",
       "        [0.62848598],\n",
       "        [0.63243198],\n",
       "        [0.61549199],\n",
       "        [0.61983502],\n",
       "        [0.61041802],\n",
       "        [0.61252999],\n",
       "        [0.60545599],\n",
       "        [0.61731899],\n",
       "        [0.62391001],\n",
       "        [0.62540197],\n",
       "        [0.62020499],\n",
       "        [0.613518  ],\n",
       "        [0.64633697],\n",
       "        [0.62236899],\n",
       "        [0.63485599],\n",
       "        [0.63499802],\n",
       "        [0.623402  ],\n",
       "        [0.62184399],\n",
       "        [0.614941  ],\n",
       "        [0.63008201],\n",
       "        [0.62536299],\n",
       "        [0.58257997],\n",
       "        [0.58822602],\n",
       "        [0.57648599],\n",
       "        [0.56851202],\n",
       "        [0.551741  ],\n",
       "        [0.577923  ],\n",
       "        [0.56663299],\n",
       "        [0.599989  ],\n",
       "        [0.60209501],\n",
       "        [0.57029903],\n",
       "        [0.57507801],\n",
       "        [0.57623303],\n",
       "        [0.57591999],\n",
       "        [0.57594699],\n",
       "        [0.56797302],\n",
       "        [0.551907  ],\n",
       "        [0.54425597],\n",
       "        [0.55312598],\n",
       "        [0.54611099],\n",
       "        [0.52671599],\n",
       "        [0.51773697],\n",
       "        [0.51798803],\n",
       "        [0.51360601],\n",
       "        [0.53218901],\n",
       "        [0.53026003],\n",
       "        [0.52409399],\n",
       "        [0.53509003],\n",
       "        [0.51069802],\n",
       "        [0.50319302],\n",
       "        [0.50585902],\n",
       "        [0.51041198],\n",
       "        [0.51893902],\n",
       "        [0.50328797],\n",
       "        [0.506244  ],\n",
       "        [0.505153  ],\n",
       "        [0.513789  ],\n",
       "        [0.51452899],\n",
       "        [0.52603102],\n",
       "        [0.52411199],\n",
       "        [0.52608401],\n",
       "        [0.53189701],\n",
       "        [0.52483499],\n",
       "        [0.53840101],\n",
       "        [0.56275499],\n",
       "        [0.56496   ],\n",
       "        [0.54988599],\n",
       "        [0.556903  ],\n",
       "        [0.56259698],\n",
       "        [0.562922  ],\n",
       "        [0.54900402],\n",
       "        [0.540914  ],\n",
       "        [0.53453398],\n",
       "        [0.54511797],\n",
       "        [0.54242498],\n",
       "        [0.55140501],\n",
       "        [0.58625799],\n",
       "        [0.57581103],\n",
       "        [0.58632499],\n",
       "        [0.60189003],\n",
       "        [0.64485103],\n",
       "        [0.62707198],\n",
       "        [0.65013301],\n",
       "        [0.59290099],\n",
       "        [0.61225301],\n",
       "        [0.62862402],\n",
       "        [0.62195498],\n",
       "        [0.62180501],\n",
       "        [0.60843199],\n",
       "        [0.718036  ],\n",
       "        [0.688209  ],\n",
       "        [0.69094998],\n",
       "        [0.669967  ],\n",
       "        [0.63373703],\n",
       "        [0.60306001],\n",
       "        [0.619232  ],\n",
       "        [0.64756501],\n",
       "        [0.58444101],\n",
       "        [0.61216199],\n",
       "        [0.64069098],\n",
       "        [0.61094898],\n",
       "        [0.61759597],\n",
       "        [0.63295001],\n",
       "        [0.64103401],\n",
       "        [0.64320779]]))"
      ]
     },
     "execution_count": 25,
     "metadata": {},
     "output_type": "execute_result"
    }
   ],
   "source": [
    "inverse_y_test = scaler.inverse_transform(y_test)\n",
    "inverse_predictions, inverse_y_test"
   ]
  },
  {
   "cell_type": "markdown",
   "metadata": {},
   "source": [
    "Create a DataFrame with two columns: 'original_test_data' containing the actual closing prices from the test data and 'predictions' containing the model's predictions"
   ]
  },
  {
   "cell_type": "code",
   "execution_count": 26,
   "metadata": {},
   "outputs": [
    {
     "data": {
      "text/html": [
       "<div>\n",
       "<style scoped>\n",
       "    .dataframe tbody tr th:only-of-type {\n",
       "        vertical-align: middle;\n",
       "    }\n",
       "\n",
       "    .dataframe tbody tr th {\n",
       "        vertical-align: top;\n",
       "    }\n",
       "\n",
       "    .dataframe thead th {\n",
       "        text-align: right;\n",
       "    }\n",
       "</style>\n",
       "<table border=\"1\" class=\"dataframe\">\n",
       "  <thead>\n",
       "    <tr style=\"text-align: right;\">\n",
       "      <th></th>\n",
       "      <th>original_test_data</th>\n",
       "      <th>predictions</th>\n",
       "    </tr>\n",
       "    <tr>\n",
       "      <th>Date</th>\n",
       "      <th></th>\n",
       "      <th></th>\n",
       "    </tr>\n",
       "  </thead>\n",
       "  <tbody>\n",
       "    <tr>\n",
       "      <th>2023-08-17</th>\n",
       "      <td>0.507142</td>\n",
       "      <td>0.613727</td>\n",
       "    </tr>\n",
       "    <tr>\n",
       "      <th>2023-08-18</th>\n",
       "      <td>0.506100</td>\n",
       "      <td>0.538611</td>\n",
       "    </tr>\n",
       "    <tr>\n",
       "      <th>2023-08-19</th>\n",
       "      <td>0.519629</td>\n",
       "      <td>0.526101</td>\n",
       "    </tr>\n",
       "    <tr>\n",
       "      <th>2023-08-20</th>\n",
       "      <td>0.539547</td>\n",
       "      <td>0.539213</td>\n",
       "    </tr>\n",
       "    <tr>\n",
       "      <th>2023-08-21</th>\n",
       "      <td>0.524538</td>\n",
       "      <td>0.560613</td>\n",
       "    </tr>\n",
       "    <tr>\n",
       "      <th>...</th>\n",
       "      <td>...</td>\n",
       "      <td>...</td>\n",
       "    </tr>\n",
       "    <tr>\n",
       "      <th>2024-03-22</th>\n",
       "      <td>0.610949</td>\n",
       "      <td>0.661063</td>\n",
       "    </tr>\n",
       "    <tr>\n",
       "      <th>2024-03-23</th>\n",
       "      <td>0.617596</td>\n",
       "      <td>0.639110</td>\n",
       "    </tr>\n",
       "    <tr>\n",
       "      <th>2024-03-24</th>\n",
       "      <td>0.632950</td>\n",
       "      <td>0.640421</td>\n",
       "    </tr>\n",
       "    <tr>\n",
       "      <th>2024-03-25</th>\n",
       "      <td>0.641034</td>\n",
       "      <td>0.654962</td>\n",
       "    </tr>\n",
       "    <tr>\n",
       "      <th>2024-03-26</th>\n",
       "      <td>0.643208</td>\n",
       "      <td>0.664605</td>\n",
       "    </tr>\n",
       "  </tbody>\n",
       "</table>\n",
       "<p>223 rows × 2 columns</p>\n",
       "</div>"
      ],
      "text/plain": [
       "            original_test_data  predictions\n",
       "Date                                       \n",
       "2023-08-17            0.507142     0.613727\n",
       "2023-08-18            0.506100     0.538611\n",
       "2023-08-19            0.519629     0.526101\n",
       "2023-08-20            0.539547     0.539213\n",
       "2023-08-21            0.524538     0.560613\n",
       "...                        ...          ...\n",
       "2024-03-22            0.610949     0.661063\n",
       "2024-03-23            0.617596     0.639110\n",
       "2024-03-24            0.632950     0.640421\n",
       "2024-03-25            0.641034     0.654962\n",
       "2024-03-26            0.643208     0.664605\n",
       "\n",
       "[223 rows x 2 columns]"
      ]
     },
     "execution_count": 26,
     "metadata": {},
     "output_type": "execute_result"
    }
   ],
   "source": [
    "plotting_data = pd.DataFrame({\n",
    "    'original_test_data': inverse_y_test.reshape(-1),\n",
    "    'predictions': inverse_predictions.reshape(-1),\n",
    "}, index = closing_price.index[len_train+100:])\n",
    "\n",
    "plotting_data"
   ]
  },
  {
   "cell_type": "markdown",
   "metadata": {},
   "source": [
    "Visualize the original test data and the model's predictions against the dates"
   ]
  },
  {
   "cell_type": "code",
   "execution_count": 27,
   "metadata": {},
   "outputs": [
    {
     "data": {
      "text/plain": [
       "<Figure size 640x480 with 0 Axes>"
      ]
     },
     "metadata": {},
     "output_type": "display_data"
    },
    {
     "data": {
      "image/png": "[encoded data removed]",
      "text/plain": [
       "<Figure size 1500x600 with 1 Axes>"
      ]
     },
     "metadata": {},
     "output_type": "display_data"
    }
   ],
   "source": [
    "plt.figure()\n",
    "plotting_data.plot(figsize=(15, 6))\n",
    "plt.xlabel('Year')\n",
    "plt.ylabel('Close Price')\n",
    "plt.title('Close Price of XRP')\n",
    "plt.show()"
   ]
  },
  {
   "cell_type": "markdown",
   "metadata": {},
   "source": [
    "Most recent 100 'close' prices of Ripple (XRP)"
   ]
  },
  {
   "cell_type": "code",
   "execution_count": 28,
   "metadata": {},
   "outputs": [
    {
     "data": {
      "text/html": [
       "<div>\n",
       "<style scoped>\n",
       "    .dataframe tbody tr th:only-of-type {\n",
       "        vertical-align: middle;\n",
       "    }\n",
       "\n",
       "    .dataframe tbody tr th {\n",
       "        vertical-align: top;\n",
       "    }\n",
       "\n",
       "    .dataframe thead th {\n",
       "        text-align: right;\n",
       "    }\n",
       "</style>\n",
       "<table border=\"1\" class=\"dataframe\">\n",
       "  <thead>\n",
       "    <tr style=\"text-align: right;\">\n",
       "      <th></th>\n",
       "      <th>close</th>\n",
       "    </tr>\n",
       "    <tr>\n",
       "      <th>Date</th>\n",
       "      <th></th>\n",
       "    </tr>\n",
       "  </thead>\n",
       "  <tbody>\n",
       "    <tr>\n",
       "      <th>2024-03-22</th>\n",
       "      <td>0.610949</td>\n",
       "    </tr>\n",
       "    <tr>\n",
       "      <th>2024-03-23</th>\n",
       "      <td>0.617596</td>\n",
       "    </tr>\n",
       "    <tr>\n",
       "      <th>2024-03-24</th>\n",
       "      <td>0.632950</td>\n",
       "    </tr>\n",
       "    <tr>\n",
       "      <th>2024-03-25</th>\n",
       "      <td>0.641034</td>\n",
       "    </tr>\n",
       "    <tr>\n",
       "      <th>2024-03-26</th>\n",
       "      <td>0.643208</td>\n",
       "    </tr>\n",
       "  </tbody>\n",
       "</table>\n",
       "</div>"
      ],
      "text/plain": [
       "               close\n",
       "Date                \n",
       "2024-03-22  0.610949\n",
       "2024-03-23  0.617596\n",
       "2024-03-24  0.632950\n",
       "2024-03-25  0.641034\n",
       "2024-03-26  0.643208"
      ]
     },
     "execution_count": 28,
     "metadata": {},
     "output_type": "execute_result"
    }
   ],
   "source": [
    "last_100 = closing_price[['close']].tail(100)\n",
    "last_100.tail()"
   ]
  },
  {
   "cell_type": "markdown",
   "metadata": {},
   "source": [
    "Transforms the last 100 'close' prices using the fit_transform method of the scaler. The reshape(-1, 1) operation ensures that the input data is reshaped to a 2D array with a single feature. After scaling, the data is reshaped again to match the input shape required by the LSTM model, which is (batch_size, timesteps, features). The resulting array last_100 has the shape (1, 100, 1), representing a single batch with 100 timesteps and a single feature. This format is suitable for making predictions using the LSTM model"
   ]
  },
  {
   "cell_type": "code",
   "execution_count": 29,
   "metadata": {},
   "outputs": [
    {
     "data": {
      "text/plain": [
       "array([[[5.08915743e-01],\n",
       "        [4.75989377e-01],\n",
       "        [5.31206417e-01],\n",
       "        [5.61884739e-01],\n",
       "        [5.68829178e-01],\n",
       "        [5.44639471e-01],\n",
       "        [5.13514481e-01],\n",
       "        [6.66272434e-01],\n",
       "        [5.54711973e-01],\n",
       "        [6.12833465e-01],\n",
       "        [6.13494589e-01],\n",
       "        [5.59520173e-01],\n",
       "        [5.52268338e-01],\n",
       "        [5.20137929e-01],\n",
       "        [5.90612704e-01],\n",
       "        [5.68647736e-01],\n",
       "        [3.69511498e-01],\n",
       "        [3.95791389e-01],\n",
       "        [3.41146694e-01],\n",
       "        [3.04031359e-01],\n",
       "        [2.25969609e-01],\n",
       "        [3.47835339e-01],\n",
       "        [2.95285267e-01],\n",
       "        [4.50542896e-01],\n",
       "        [4.60345455e-01],\n",
       "        [3.12349093e-01],\n",
       "        [3.34593159e-01],\n",
       "        [3.39969266e-01],\n",
       "        [3.38512185e-01],\n",
       "        [3.38637862e-01],\n",
       "        [3.01522527e-01],\n",
       "        [2.26742262e-01],\n",
       "        [1.91130062e-01],\n",
       "        [2.32416055e-01],\n",
       "        [1.99764348e-01],\n",
       "        [1.09489142e-01],\n",
       "        [6.76957231e-02],\n",
       "        [6.88642731e-02],\n",
       "        [4.84679150e-02],\n",
       "        [1.34963644e-01],\n",
       "        [1.25985062e-01],\n",
       "        [9.72848413e-02],\n",
       "        [1.48466611e-01],\n",
       "        [3.49324879e-02],\n",
       "        [0.00000000e+00],\n",
       "        [1.24090469e-02],\n",
       "        [3.36010844e-02],\n",
       "        [7.32907251e-02],\n",
       "        [4.41951612e-04],\n",
       "        [1.42009900e-02],\n",
       "        [9.12284673e-03],\n",
       "        [4.93196359e-02],\n",
       "        [5.27639731e-02],\n",
       "        [1.06300876e-01],\n",
       "        [9.73686262e-02],\n",
       "        [1.06547515e-01],\n",
       "        [1.33604497e-01],\n",
       "        [1.00733895e-01],\n",
       "        [1.63877766e-01],\n",
       "        [2.77234887e-01],\n",
       "        [2.87498263e-01],\n",
       "        [2.17335323e-01],\n",
       "        [2.49996463e-01],\n",
       "        [2.76499410e-01],\n",
       "        [2.78012255e-01],\n",
       "        [2.13230139e-01],\n",
       "        [1.75574641e-01],\n",
       "        [1.45878434e-01],\n",
       "        [1.95142305e-01],\n",
       "        [1.82607581e-01],\n",
       "        [2.24405717e-01],\n",
       "        [3.86631089e-01],\n",
       "        [3.38005037e-01],\n",
       "        [3.86942924e-01],\n",
       "        [4.59391361e-01],\n",
       "        [6.59356016e-01],\n",
       "        [5.76602310e-01],\n",
       "        [6.83941343e-01],\n",
       "        [4.17551333e-01],\n",
       "        [5.07626509e-01],\n",
       "        [5.83826402e-01],\n",
       "        [5.52784919e-01],\n",
       "        [5.52086897e-01],\n",
       "        [4.89841355e-01],\n",
       "        [1.00000000e+00],\n",
       "        [8.61168378e-01],\n",
       "        [8.73926436e-01],\n",
       "        [7.76259846e-01],\n",
       "        [6.07625205e-01],\n",
       "        [4.64837104e-01],\n",
       "        [5.40110646e-01],\n",
       "        [6.71988397e-01],\n",
       "        [3.78173805e-01],\n",
       "        [5.07202868e-01],\n",
       "        [6.39992820e-01],\n",
       "        [5.01556818e-01],\n",
       "        [5.32495651e-01],\n",
       "        [6.03961973e-01],\n",
       "        [6.41589450e-01],\n",
       "        [6.51707451e-01]]])"
      ]
     },
     "execution_count": 29,
     "metadata": {},
     "output_type": "execute_result"
    }
   ],
   "source": [
    "last_100 = scaler.fit_transform(last_100['close'].values.reshape(-1,1)).reshape(1, -1, 1)\n",
    "last_100"
   ]
  },
  {
   "cell_type": "code",
   "execution_count": 30,
   "metadata": {},
   "outputs": [
    {
     "data": {
      "text/plain": [
       "(1, 100, 1)"
      ]
     },
     "execution_count": 30,
     "metadata": {},
     "output_type": "execute_result"
    }
   ],
   "source": [
    "last_100.shape"
   ]
  },
  {
   "cell_type": "markdown",
   "metadata": {},
   "source": [
    "Trained LSTM model to predict the closing price for day 101 based on the last 100 days of data"
   ]
  },
  {
   "cell_type": "code",
   "execution_count": 31,
   "metadata": {},
   "outputs": [
    {
     "name": "stdout",
     "output_type": "stream",
     "text": [
      "\u001b[1m1/1\u001b[0m \u001b[32m━━━━━━━━━━━━━━━━━━━━\u001b[0m\u001b[37m\u001b[0m \u001b[1m0s\u001b[0m 55ms/step\n"
     ]
    },
    {
     "data": {
      "text/plain": [
       "array([[0.6482678]], dtype=float32)"
      ]
     },
     "execution_count": 31,
     "metadata": {},
     "output_type": "execute_result"
    }
   ],
   "source": [
    "day101 = model.predict(last_100)\n",
    "day101"
   ]
  },
  {
   "cell_type": "markdown",
   "metadata": {},
   "source": [
    "Predicted closing price for day 101"
   ]
  },
  {
   "cell_type": "code",
   "execution_count": 34,
   "metadata": {},
   "outputs": [
    {
     "data": {
      "text/plain": [
       "array([[0.6424688]], dtype=float32)"
      ]
     },
     "execution_count": 34,
     "metadata": {},
     "output_type": "execute_result"
    }
   ],
   "source": [
    "scaler.inverse_transform(day101)"
   ]
  },
  {
   "cell_type": "markdown",
   "metadata": {},
   "source": [
    "That predicts future closing prices for a specified number of days using an LSTM model"
   ]
  },
  {
   "cell_type": "code",
   "execution_count": 49,
   "metadata": {},
   "outputs": [
    {
     "name": "stdout",
     "output_type": "stream",
     "text": [
      "\u001b[1m1/1\u001b[0m \u001b[32m━━━━━━━━━━━━━━━━━━━━\u001b[0m\u001b[37m\u001b[0m \u001b[1m0s\u001b[0m 35ms/step\n"
     ]
    },
    {
     "name": "stdout",
     "output_type": "stream",
     "text": [
      "\u001b[1m1/1\u001b[0m \u001b[32m━━━━━━━━━━━━━━━━━━━━\u001b[0m\u001b[37m\u001b[0m \u001b[1m0s\u001b[0m 30ms/step\n",
      "\u001b[1m1/1\u001b[0m \u001b[32m━━━━━━━━━━━━━━━━━━━━\u001b[0m\u001b[37m\u001b[0m \u001b[1m0s\u001b[0m 28ms/step\n",
      "\u001b[1m1/1\u001b[0m \u001b[32m━━━━━━━━━━━━━━━━━━━━\u001b[0m\u001b[37m\u001b[0m \u001b[1m0s\u001b[0m 27ms/step\n",
      "\u001b[1m1/1\u001b[0m \u001b[32m━━━━━━━━━━━━━━━━━━━━\u001b[0m\u001b[37m\u001b[0m \u001b[1m0s\u001b[0m 26ms/step\n",
      "[array([[0.6424688]]), array([[0.64089927]]), array([[0.63889279]]), array([[0.63676063]]), array([[0.63465724]])]\n"
     ]
    }
   ],
   "source": [
    "def predict_future(no_of_days, previous_100):\n",
    "    future_predictions = []\n",
    "\n",
    "    for i in range(no_of_days):\n",
    "        next_day = model.predict(np.array(previous_100)).tolist()\n",
    "        previous_100[0].append(next_day[0])\n",
    "        previous_100 = [previous_100[0][1:]]\n",
    "        future_predictions.append(scaler.inverse_transform(next_day))\n",
    "    return future_predictions\n",
    "\n",
    "no_of_days = 5\n",
    "\n",
    "future_results = predict_future(no_of_days, last_100)\n",
    "print(future_results)"
   ]
  },
  {
   "cell_type": "code",
   "execution_count": 63,
   "metadata": {},
   "outputs": [
    {
     "data": {
      "image/png": "[encoded data removed]",
      "text/plain": [
       "<Figure size 640x480 with 1 Axes>"
      ]
     },
     "metadata": {},
     "output_type": "display_data"
    }
   ],
   "source": [
    "future_results = np.array(future_results).reshape(-1, 1)\n",
    "plt.figure()\n",
    "plt.plot(future_results, marker='o')\n",
    "for i in range(len(future_results)):\n",
    "    price = future_results[i][0]  # Extract scalar value from the array\n",
    "    plt.text(i, price, str(round(float(price), 2)), ha='center', va='bottom')\n",
    "plt.xlabel('Future Days')\n",
    "plt.ylabel('Close Price')\n",
    "plt.title('Future Close Price of XRP')\n",
    "plt.show()"
   ]
  },
  {
   "cell_type": "code",
   "execution_count": 64,
   "metadata": {},
   "outputs": [],
   "source": [
    "model.save('xrp_price_model.keras')"
   ]
  }
 ],
 "metadata": {
  "kernelspec": {
   "display_name": "venv",
   "language": "python",
   "name": "python3"
  },
  "language_info": {
   "codemirror_mode": {
    "name": "ipython",
    "version": 3
   },
   "file_extension": ".py",
   "mimetype": "text/x-python",
   "name": "python",
   "nbconvert_exporter": "python",
   "pygments_lexer": "ipython3",
   "version": "3.12.2"
  }
 },
 "nbformat": 4,
 "nbformat_minor": 2
}
